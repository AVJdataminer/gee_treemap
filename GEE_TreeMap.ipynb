{
  "nbformat": 4,
  "nbformat_minor": 0,
  "metadata": {
    "colab": {
      "provenance": []
    },
    "kernelspec": {
      "name": "python3",
      "display_name": "Python 3"
    },
    "language_info": {
      "name": "python"
    }
  },
  "cells": [
    {
      "cell_type": "code",
      "source": [
        "from google.colab import drive\n",
        "drive.mount('/content/drive')\n",
        "import os\n",
        "directory_path = '/content/drive/MyDrive/Newwave'\n",
        "files = os.listdir(directory_path)\n",
        "print(files)"
      ],
      "metadata": {
        "colab": {
          "base_uri": "https://localhost:8080/",
          "height": 53
        },
        "id": "HsKCcdFLEdq7",
        "outputId": "de3ee6ed-8d18-466a-8f28-106e996f7525"
      },
      "execution_count": null,
      "outputs": [
        {
          "data": {
            "text/html": [
              "\n",
              "            <style>\n",
              "                .geemap-dark {\n",
              "                    --jp-widgets-color: white;\n",
              "                    --jp-widgets-label-color: white;\n",
              "                    --jp-ui-font-color1: white;\n",
              "                    --jp-layout-color2: #454545;\n",
              "                    background-color: #383838;\n",
              "                }\n",
              "\n",
              "                .geemap-dark .jupyter-button {\n",
              "                    --jp-layout-color3: #383838;\n",
              "                }\n",
              "\n",
              "                .geemap-colab {\n",
              "                    background-color: var(--colab-primary-surface-color, white);\n",
              "                }\n",
              "\n",
              "                .geemap-colab .jupyter-button {\n",
              "                    --jp-layout-color3: var(--colab-primary-surface-color, white);\n",
              "                }\n",
              "            </style>\n",
              "            "
            ],
            "text/plain": [
              "<IPython.core.display.HTML object>"
            ]
          },
          "metadata": {},
          "output_type": "display_data"
        },
        {
          "output_type": "stream",
          "name": "stdout",
          "text": [
            "Mounted at /content/drive\n",
            "['ortho_normalized.tif', 'sample_rgb.tif', 'sample_rgb_reprojected.tif', 'full_sample_points.csv']\n"
          ]
        }
      ]
    },
    {
      "cell_type": "code",
      "source": [
        "# Import necessary libraries\n",
        "import ee\n",
        "import geemap\n",
        "import folium\n",
        "from google.colab import drive\n",
        "\n",
        "# Authenticate and initialize Earth Engine\n",
        "ee.Authenticate()\n",
        "ee.Initialize(project='nlcd-project')\n",
        "print(ee.String('Hello from the Earth Engine servers!').getInfo())"
      ],
      "metadata": {
        "id": "u7t-YzLEEgY9",
        "colab": {
          "base_uri": "https://localhost:8080/",
          "height": 35
        },
        "outputId": "89faa408-645d-4e5f-ecde-ce841791ef49"
      },
      "execution_count": null,
      "outputs": [
        {
          "output_type": "display_data",
          "data": {
            "text/plain": [
              "<IPython.core.display.HTML object>"
            ],
            "text/html": [
              "\n",
              "            <style>\n",
              "                .geemap-dark {\n",
              "                    --jp-widgets-color: white;\n",
              "                    --jp-widgets-label-color: white;\n",
              "                    --jp-ui-font-color1: white;\n",
              "                    --jp-layout-color2: #454545;\n",
              "                    background-color: #383838;\n",
              "                }\n",
              "\n",
              "                .geemap-dark .jupyter-button {\n",
              "                    --jp-layout-color3: #383838;\n",
              "                }\n",
              "\n",
              "                .geemap-colab {\n",
              "                    background-color: var(--colab-primary-surface-color, white);\n",
              "                }\n",
              "\n",
              "                .geemap-colab .jupyter-button {\n",
              "                    --jp-layout-color3: var(--colab-primary-surface-color, white);\n",
              "                }\n",
              "            </style>\n",
              "            "
            ]
          },
          "metadata": {}
        },
        {
          "output_type": "stream",
          "name": "stdout",
          "text": [
            "Hello from the Earth Engine servers!\n"
          ]
        }
      ]
    },
    {
      "cell_type": "markdown",
      "source": [
        "## Create Download link for Geotiff"
      ],
      "metadata": {
        "id": "-aFz8-ZJVKW2"
      }
    },
    {
      "cell_type": "code",
      "source": [
        "import ee\n",
        "\n",
        "# Initialize the Earth Engine API\n",
        "ee.Initialize()\n",
        "\n",
        "# Define the collection and point of interest\n",
        "collection = ee.ImageCollection('USFS/GTAC/TreeMap/v2016')\n",
        "point = ee.Geometry.Point(-85, 35.0)\n",
        "\n",
        "# Define the region of interest (ROI) as a 10km x 10km buffer around the point\n",
        "roi = point.buffer(10000).bounds()\n",
        "\n",
        "# Select the canopy cover band (if available)\n",
        "canopy_cover_band = 'STANDHT'  # Adjust this to the correct band name in the collection\n",
        "image = collection.median().select(canopy_cover_band)\n",
        "\n",
        "# Clip the image to the ROI\n",
        "clipped_image = image.clip(roi)\n",
        "\n",
        "# Generate a download URL\n",
        "url = clipped_image.getDownloadURL({\n",
        "    'scale': 30,  # Adjust scale (spatial resolution) as needed\n",
        "    'region': roi.getInfo()['coordinates'],\n",
        "    'fileFormat': 'GeoTIFF'\n",
        "})\n",
        "\n",
        "print(\"Download URL:\")\n",
        "print(url)\n"
      ],
      "metadata": {
        "colab": {
          "base_uri": "https://localhost:8080/",
          "height": 53
        },
        "id": "xElF_UU1R7pF",
        "outputId": "7a91478c-613d-492a-fbc4-0bb13ed45688"
      },
      "execution_count": null,
      "outputs": [
        {
          "output_type": "display_data",
          "data": {
            "text/plain": [
              "<IPython.core.display.HTML object>"
            ],
            "text/html": [
              "\n",
              "            <style>\n",
              "                .geemap-dark {\n",
              "                    --jp-widgets-color: white;\n",
              "                    --jp-widgets-label-color: white;\n",
              "                    --jp-ui-font-color1: white;\n",
              "                    --jp-layout-color2: #454545;\n",
              "                    background-color: #383838;\n",
              "                }\n",
              "\n",
              "                .geemap-dark .jupyter-button {\n",
              "                    --jp-layout-color3: #383838;\n",
              "                }\n",
              "\n",
              "                .geemap-colab {\n",
              "                    background-color: var(--colab-primary-surface-color, white);\n",
              "                }\n",
              "\n",
              "                .geemap-colab .jupyter-button {\n",
              "                    --jp-layout-color3: var(--colab-primary-surface-color, white);\n",
              "                }\n",
              "            </style>\n",
              "            "
            ]
          },
          "metadata": {}
        },
        {
          "output_type": "stream",
          "name": "stdout",
          "text": [
            "Download URL:\n",
            "https://earthengine.googleapis.com/v1/projects/nlcd-project/thumbnails/1a1e37c011dad8cda9f76df2955500bd-3b0ab4425e03fa758043d6055ee38d16:getPixels\n"
          ]
        }
      ]
    },
    {
      "cell_type": "markdown",
      "source": [
        "Select all three layers"
      ],
      "metadata": {
        "id": "hdLQ3HrQVOtW"
      }
    },
    {
      "cell_type": "code",
      "source": [
        "# Load the image collection\n",
        "collection = ee.ImageCollection('USFS/GTAC/TreeMap/v2016')\n",
        "\n",
        "# Mosaic the collection to combine all images into a single image\n",
        "dataset = collection.mosaic()\n",
        "\n",
        "# Select the desired layers\n",
        "canopy_cover = dataset.select('CANOPYPCT')\n",
        "live_trees_per_acre = dataset.select('TPA_LIVE')\n",
        "stand_height = dataset.select('STANDHT')\n",
        "\n",
        "# Combine the selected layers into a single image\n",
        "selected_layers = dataset.select(['CANOPYPCT', 'TPA_LIVE', 'STANDHT'])\n",
        "\n",
        "# Define a point of interest (Longitude, Latitude)\n",
        "point = ee.Geometry.Point(-85, 35.0)  # Replace 37.0 with the desired latitude\n",
        "\n",
        "# Define an area of interest (buffer around the point)\n",
        "area_of_interest = point.buffer(10000)  # Buffer in meters (e.g., 10 km radius)\n",
        "\n",
        "# Clip the combined image to the area of interest\n",
        "layers_clipped = selected_layers.clip(area_of_interest)\n",
        "\n",
        "# Get statistics for the selected layers in the area of interest\n",
        "stats = layers_clipped.reduceRegion(\n",
        "    reducer=ee.Reducer.mean(),\n",
        "    geometry=area_of_interest,\n",
        "    scale=30  # Scale in meters (resolution of the dataset)\n",
        ")\n",
        "\n",
        "# Print the result\n",
        "print('Layer statistics:', stats.getInfo())\n",
        "\n",
        "# Export the clipped image to Google Drive (Optional)\n",
        "task = ee.batch.Export.image.toDrive(\n",
        "    image=layers_clipped,\n",
        "    description='Selected_Layers_Export',\n",
        "    folder='GEE_Exports',  # Google Drive folder name\n",
        "    fileNamePrefix='selected_layers',\n",
        "    scale=30,  # Scale in meters\n",
        "    region=area_of_interest.bounds().getInfo()['coordinates'],\n",
        "    crs='EPSG:4326',\n",
        "    fileFormat='GeoTIFF',\n",
        "    formatOptions={'cloudOptimized': True},\n",
        ")\n",
        "\n",
        "task.start()\n",
        "print('Export task started. Check your Google Drive.')\n"
      ],
      "metadata": {
        "colab": {
          "base_uri": "https://localhost:8080/",
          "height": 53
        },
        "id": "ZiriM4AA8tDz",
        "outputId": "759f9bc6-7f10-41fe-efef-ce96a1d89b98"
      },
      "execution_count": null,
      "outputs": [
        {
          "output_type": "display_data",
          "data": {
            "text/plain": [
              "<IPython.core.display.HTML object>"
            ],
            "text/html": [
              "\n",
              "            <style>\n",
              "                .geemap-dark {\n",
              "                    --jp-widgets-color: white;\n",
              "                    --jp-widgets-label-color: white;\n",
              "                    --jp-ui-font-color1: white;\n",
              "                    --jp-layout-color2: #454545;\n",
              "                    background-color: #383838;\n",
              "                }\n",
              "\n",
              "                .geemap-dark .jupyter-button {\n",
              "                    --jp-layout-color3: #383838;\n",
              "                }\n",
              "\n",
              "                .geemap-colab {\n",
              "                    background-color: var(--colab-primary-surface-color, white);\n",
              "                }\n",
              "\n",
              "                .geemap-colab .jupyter-button {\n",
              "                    --jp-layout-color3: var(--colab-primary-surface-color, white);\n",
              "                }\n",
              "            </style>\n",
              "            "
            ]
          },
          "metadata": {}
        },
        {
          "output_type": "stream",
          "name": "stdout",
          "text": [
            "Layer statistics: {'CANOPYPCT': 72.42239296636798, 'STANDHT': 66.14803321144628, 'TPA_LIVE': 705.1227720191678}\n",
            "Export task started. Check your Google Drive.\n"
          ]
        }
      ]
    },
    {
      "cell_type": "code",
      "source": [],
      "metadata": {
        "id": "2oROUTOHIxeD"
      },
      "execution_count": null,
      "outputs": []
    }
  ]
}